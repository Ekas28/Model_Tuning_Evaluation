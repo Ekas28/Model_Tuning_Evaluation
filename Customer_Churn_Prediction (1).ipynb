{
  "nbformat": 4,
  "nbformat_minor": 0,
  "metadata": {
    "colab": {
      "provenance": []
    },
    "kernelspec": {
      "name": "python3",
      "display_name": "Python 3"
    },
    "language_info": {
      "name": "python"
    }
  },
  "cells": [
    {
      "cell_type": "markdown",
      "source": [
        "IMPORTING LIBRARIES"
      ],
      "metadata": {
        "id": "dsvTzcZlqgJC"
      }
    },
    {
      "cell_type": "code",
      "execution_count": 1,
      "metadata": {
        "id": "AyiKPwVCeft-"
      },
      "outputs": [],
      "source": [
        "import numpy as np\n",
        "import pandas as pd\n",
        "import matplotlib.pyplot as plt\n",
        "import seaborn as sns\n",
        "from sklearn.model_selection import train_test_split, GridSearchCV, RandomizedSearchCV\n",
        "from sklearn.preprocessing import StandardScaler\n",
        "from sklearn.metrics import (accuracy_score, precision_score, recall_score, f1_score,\n",
        "                            classification_report, confusion_matrix)\n",
        "from sklearn.linear_model import LogisticRegression\n",
        "from sklearn.svm import SVC\n",
        "from sklearn.ensemble import RandomForestClassifier, GradientBoostingClassifier\n",
        "from sklearn.neighbors import KNeighborsClassifier\n",
        "from sklearn.tree import DecisionTreeClassifier\n",
        "from time import time"
      ]
    },
    {
      "cell_type": "markdown",
      "source": [
        "LOADING AND EXPLORING DATA"
      ],
      "metadata": {
        "id": "aojeTUuzqnnB"
      }
    },
    {
      "cell_type": "code",
      "source": [
        "# Using telecom customer churn dataset\n",
        "url = \"https://raw.githubusercontent.com/IBM/telco-customer-churn-on-icp4d/master/data/Telco-Customer-Churn.csv\"\n",
        "df = pd.read_csv(url)\n",
        "\n",
        "print(\"Data Shape:\", df.shape)\n",
        "print(\"\\nMissing Values:\\n\", df.isnull().sum())\n",
        "print(\"\\nData Types:\\n\", df.dtypes)\n",
        "\n",
        "df['TotalCharges'] = pd.to_numeric(df['TotalCharges'], errors='coerce')\n",
        "df.dropna(inplace=True)\n",
        "df = pd.get_dummies(df, columns=['gender', 'Partner', 'Dependents', 'PhoneService',\n",
        "                                 'MultipleLines', 'InternetService', 'OnlineSecurity',\n",
        "                                 'OnlineBackup', 'DeviceProtection', 'TechSupport',\n",
        "                                 'StreamingTV', 'StreamingMovies', 'Contract',\n",
        "                                 'PaperlessBilling', 'PaymentMethod'], drop_first=True)\n",
        "df['Churn'] = df['Churn'].map({'Yes': 1, 'No': 0})\n",
        "\n",
        "X = df.drop(['customerID', 'Churn'], axis=1)\n",
        "y = df['Churn']\n",
        "X_train, X_test, y_train, y_test = train_test_split(X, y, test_size=0.3, stratify=y, random_state=42)\n",
        "\n",
        "scaler = StandardScaler()\n",
        "num_cols = ['tenure', 'MonthlyCharges', 'TotalCharges']\n",
        "X_train[num_cols] = scaler.fit_transform(X_train[num_cols])\n",
        "X_test[num_cols] = scaler.transform(X_test[num_cols])"
      ],
      "metadata": {
        "colab": {
          "base_uri": "https://localhost:8080/"
        },
        "id": "fQcONRpFnj_h",
        "outputId": "0c20c16a-47c8-4538-a6e1-4107991b6db6"
      },
      "execution_count": 2,
      "outputs": [
        {
          "output_type": "stream",
          "name": "stdout",
          "text": [
            "Data Shape: (7043, 21)\n",
            "\n",
            "Missing Values:\n",
            " customerID          0\n",
            "gender              0\n",
            "SeniorCitizen       0\n",
            "Partner             0\n",
            "Dependents          0\n",
            "tenure              0\n",
            "PhoneService        0\n",
            "MultipleLines       0\n",
            "InternetService     0\n",
            "OnlineSecurity      0\n",
            "OnlineBackup        0\n",
            "DeviceProtection    0\n",
            "TechSupport         0\n",
            "StreamingTV         0\n",
            "StreamingMovies     0\n",
            "Contract            0\n",
            "PaperlessBilling    0\n",
            "PaymentMethod       0\n",
            "MonthlyCharges      0\n",
            "TotalCharges        0\n",
            "Churn               0\n",
            "dtype: int64\n",
            "\n",
            "Data Types:\n",
            " customerID           object\n",
            "gender               object\n",
            "SeniorCitizen         int64\n",
            "Partner              object\n",
            "Dependents           object\n",
            "tenure                int64\n",
            "PhoneService         object\n",
            "MultipleLines        object\n",
            "InternetService      object\n",
            "OnlineSecurity       object\n",
            "OnlineBackup         object\n",
            "DeviceProtection     object\n",
            "TechSupport          object\n",
            "StreamingTV          object\n",
            "StreamingMovies      object\n",
            "Contract             object\n",
            "PaperlessBilling     object\n",
            "PaymentMethod        object\n",
            "MonthlyCharges      float64\n",
            "TotalCharges         object\n",
            "Churn                object\n",
            "dtype: object\n"
          ]
        }
      ]
    },
    {
      "cell_type": "markdown",
      "source": [
        "MODEL TRAINING WITH HYPERPARAMETER TUNING"
      ],
      "metadata": {
        "id": "js9C9by3q7Wz"
      }
    },
    {
      "cell_type": "code",
      "source": [
        "models = {\n",
        "    \"Logistic Regression\": (LogisticRegression(max_iter=1000), {\n",
        "        'C': [0.001, 0.01, 0.1, 1, 10],\n",
        "        'solver': ['liblinear', 'saga']\n",
        "    }),\n",
        "    \"Random Forest\": (RandomForestClassifier(), {\n",
        "        'n_estimators': [100, 200],\n",
        "        'max_depth': [None, 10, 20],\n",
        "        'min_samples_split': [2, 5, 10]\n",
        "    }),\n",
        "    \"SVM\": (SVC(probability=True), {\n",
        "        'C': [0.1, 1, 10],\n",
        "        'kernel': ['linear', 'rbf'],\n",
        "        'gamma': ['scale', 'auto']\n",
        "    }),\n",
        "    \"Gradient Boosting\": (GradientBoostingClassifier(), {\n",
        "        'n_estimators': [50, 100],\n",
        "        'learning_rate': [0.01, 0.1],\n",
        "        'max_depth': [3, 5]\n",
        "    }),\n",
        "    \"KNN\": (KNeighborsClassifier(), {\n",
        "        'n_neighbors': [3, 5, 7, 9],\n",
        "        'weights': ['uniform', 'distance']\n",
        "    })\n",
        "}\n",
        "\n",
        "results = {}\n",
        "best_model = None\n",
        "best_f1 = 0\n",
        "\n",
        "for name, (model, params) in models.items():\n",
        "    print(f\"\\n=== Tuning {name} ===\")\n",
        "    start_time = time()\n",
        "\n",
        "    # Calculate total parameter combinations\n",
        "    total_combinations = 1\n",
        "    for v in params.values():\n",
        "        total_combinations *= len(v)\n",
        "\n",
        "    # Choose search method based on parameter space size\n",
        "    if total_combinations <= 24:  # Use GridSearch for small spaces\n",
        "        print(f\"Using GridSearchCV ({total_combinations} combinations)\")\n",
        "        search = GridSearchCV(model, params, cv=5, scoring='f1', n_jobs=-1)\n",
        "    else:\n",
        "        n_iter = min(15, total_combinations)  # Don't exceed total combinations\n",
        "        print(f\"Using RandomizedSearchCV ({n_iter}/{total_combinations} combinations)\")\n",
        "        search = RandomizedSearchCV(model, params, n_iter=n_iter, cv=5,\n",
        "                                   scoring='f1', n_jobs=-1, random_state=42)\n",
        "\n",
        "    search.fit(X_train, y_train)\n",
        "\n",
        "    best_estimator = search.best_estimator_\n",
        "    y_pred = best_estimator.predict(X_test)\n",
        "\n",
        "    metrics = {\n",
        "        'accuracy': accuracy_score(y_test, y_pred),\n",
        "        'precision': precision_score(y_test, y_pred),\n",
        "        'recall': recall_score(y_test, y_pred),\n",
        "        'f1': f1_score(y_test, y_pred),\n",
        "        'best_params': search.best_params_,\n",
        "        'train_time': time() - start_time\n",
        "    }\n",
        "\n",
        "    results[name] = metrics\n",
        "\n",
        "    if metrics['f1'] > best_f1:\n",
        "        best_model = best_estimator\n",
        "        best_f1 = metrics['f1']\n",
        "\n",
        "    print(f\"Best F1: {metrics['f1']:.4f}\")\n",
        "    print(f\"Best Params: {search.best_params_}\")"
      ],
      "metadata": {
        "colab": {
          "base_uri": "https://localhost:8080/"
        },
        "id": "8aKlwc9ZntiC",
        "outputId": "fcd68880-a265-42d5-88d9-29924a5218ed"
      },
      "execution_count": 8,
      "outputs": [
        {
          "output_type": "stream",
          "name": "stdout",
          "text": [
            "\n",
            "=== Tuning Logistic Regression ===\n",
            "Using GridSearchCV (10 combinations)\n",
            "Best F1: 0.6040\n",
            "Best Params: {'C': 10, 'solver': 'saga'}\n",
            "\n",
            "=== Tuning Random Forest ===\n",
            "Using GridSearchCV (18 combinations)\n",
            "Best F1: 0.5527\n",
            "Best Params: {'max_depth': 10, 'min_samples_split': 10, 'n_estimators': 200}\n",
            "\n",
            "=== Tuning SVM ===\n",
            "Using GridSearchCV (12 combinations)\n",
            "Best F1: 0.5904\n",
            "Best Params: {'C': 1, 'gamma': 'scale', 'kernel': 'linear'}\n",
            "\n",
            "=== Tuning Gradient Boosting ===\n",
            "Using GridSearchCV (8 combinations)\n",
            "Best F1: 0.5649\n",
            "Best Params: {'learning_rate': 0.1, 'max_depth': 3, 'n_estimators': 100}\n",
            "\n",
            "=== Tuning KNN ===\n",
            "Using GridSearchCV (8 combinations)\n",
            "Best F1: 0.5562\n",
            "Best Params: {'n_neighbors': 9, 'weights': 'uniform'}\n"
          ]
        }
      ]
    },
    {
      "cell_type": "markdown",
      "source": [
        "RESULTS ANALYSIS"
      ],
      "metadata": {
        "id": "YiPFSIcXrBOz"
      }
    },
    {
      "cell_type": "code",
      "source": [
        "results_df = pd.DataFrame(results).T.sort_values('f1', ascending=False)\n",
        "print(\"\\n\" + \"=\"*50)\n",
        "print(\"MODEL PERFORMANCE COMPARISON:\")\n",
        "print(results_df.drop('best_params', axis=1))\n",
        "\n",
        "print(\"\\n\" + \"=\"*50)\n",
        "print(f\"BEST MODEL: {results_df.index[0]}\")\n",
        "print(f\"F1 Score: {best_f1:.4f}\")\n",
        "\n",
        "cm = confusion_matrix(y_test, best_model.predict(X_test))\n",
        "plt.figure(figsize=(6,4))\n",
        "sns.heatmap(cm, annot=True, fmt='d', cmap='Blues',\n",
        "            xticklabels=['Not Churn', 'Churn'],\n",
        "            yticklabels=['Not Churn', 'Churn'])\n",
        "plt.title('Best Model Confusion Matrix')\n",
        "plt.ylabel('Actual')\n",
        "plt.xlabel('Predicted')\n",
        "plt.show()\n",
        "\n",
        "if hasattr(best_model, 'feature_importances_'):\n",
        "    feat_importances = pd.Series(best_model.feature_importances_, index=X.columns)\n",
        "    top_features = feat_importances.nlargest(10)\n",
        "    plt.figure(figsize=(10,6))\n",
        "    top_features.plot(kind='barh')\n",
        "    plt.title('Top 10 Feature Importances')\n",
        "    plt.show()"
      ],
      "metadata": {
        "colab": {
          "base_uri": "https://localhost:8080/",
          "height": 636
        },
        "id": "WEjKuSAGn1NR",
        "outputId": "9d467fdd-0e6a-43eb-bee6-923443025a77"
      },
      "execution_count": 5,
      "outputs": [
        {
          "output_type": "stream",
          "name": "stdout",
          "text": [
            "\n",
            "==================================================\n",
            "MODEL PERFORMANCE COMPARISON:\n",
            "                     accuracy precision    recall        f1 train_time\n",
            "Logistic Regression  0.804265  0.653527  0.561497  0.604027  19.089019\n",
            "SVM                  0.798104  0.640919  0.547237  0.590385  208.73281\n",
            "Gradient Boosting    0.792891  0.640271  0.504456  0.564307  33.251899\n",
            "KNN                  0.767773  0.565378  0.547237  0.556159   3.374139\n",
            "Random Forest        0.785782  0.623583  0.490196  0.548902  43.077347\n",
            "\n",
            "==================================================\n",
            "BEST MODEL: Logistic Regression\n",
            "F1 Score: 0.6040\n"
          ]
        },
        {
          "output_type": "display_data",
          "data": {
            "text/plain": [
              "<Figure size 600x400 with 2 Axes>"
            ],
            "image/png": "[encoded data removed]"
          },
          "metadata": {}
        }
      ]
    },
    {
      "cell_type": "markdown",
      "source": [
        "FINAL REPORT"
      ],
      "metadata": {
        "id": "UzkaE_SVrFLT"
      }
    },
    {
      "cell_type": "code",
      "source": [
        "print(\"\\n\" + \"=\"*50)\n",
        "print(\"RECOMMENDATIONS FOR CELEBAL TECHNOLOGIES:\")\n",
        "print(f\"- Best model: {results_df.index[0]} with F1-score of {best_f1:.4f}\")\n",
        "print(f\"- Critical features driving churn: {', '.join(top_features.index[:3].tolist()) if 'top_features' in locals() else 'N/A'}\")\n",
        "print(\"- Actionable insights: Focus retention efforts on customers with:\")\n",
        "print(\"  * High monthly charges\")\n",
        "print(\"  * Month-to-month contracts\")\n",
        "print(\"  * Lack of online security services\")"
      ],
      "metadata": {
        "colab": {
          "base_uri": "https://localhost:8080/"
        },
        "id": "pYojVPitn7HT",
        "outputId": "4dbec57b-b9f5-427a-993d-406b4f1a904f"
      },
      "execution_count": 7,
      "outputs": [
        {
          "output_type": "stream",
          "name": "stdout",
          "text": [
            "\n",
            "==================================================\n",
            "RECOMMENDATIONS FOR CELEBAL TECHNOLOGIES:\n",
            "- Best model: Logistic Regression with F1-score of 0.6040\n",
            "- Critical features driving churn: N/A\n",
            "- Actionable insights: Focus retention efforts on customers with:\n",
            "  * High monthly charges\n",
            "  * Month-to-month contracts\n",
            "  * Lack of online security services\n"
          ]
        }
      ]
    }
  ]
}